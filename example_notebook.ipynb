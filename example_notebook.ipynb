{
 "cells": [
  {
   "cell_type": "code",
   "execution_count": 1,
   "metadata": {},
   "outputs": [],
   "source": [
    "import pandas as pd \n",
    "import numpy as np "
   ]
  },
  {
   "cell_type": "code",
   "execution_count": 79,
   "metadata": {},
   "outputs": [],
   "source": [
    "ratings = pd.read_csv(r'datasets\\movielens-100k\\u.data',encoding='latin-1',delimiter='\\t',header=None,names=['userId','itemId','rating'],usecols=(0,1,2))\n",
    "ratings_matrix = pd.pivot(ratings,index='userId',columns='itemId',values='rating')"
   ]
  },
  {
   "cell_type": "code",
   "execution_count": 80,
   "metadata": {},
   "outputs": [
    {
     "data": {
      "text/plain": [
       "itemId\n",
       "1       3.878319\n",
       "2       3.206107\n",
       "3       3.033333\n",
       "4       3.550239\n",
       "5       3.302326\n",
       "          ...   \n",
       "1678    1.000000\n",
       "1679    3.000000\n",
       "1680    2.000000\n",
       "1681    3.000000\n",
       "1682    3.000000\n",
       "Length: 1682, dtype: float64"
      ]
     },
     "execution_count": 80,
     "metadata": {},
     "output_type": "execute_result"
    }
   ],
   "source": [
    "mu_item = ratings_matrix.mean(axis=0)\n",
    "mu_item\n"
   ]
  },
  {
   "cell_type": "code",
   "execution_count": 118,
   "metadata": {},
   "outputs": [],
   "source": [
    "mean_centered_ratings_matrix = ratings_matrix - mu_item\n",
    "mean_centered_ratings_matrix = mean_centered_ratings_matrix.to_numpy()"
   ]
  },
  {
   "cell_type": "markdown",
   "metadata": {},
   "source": []
  },
  {
   "cell_type": "code",
   "execution_count": 67,
   "metadata": {},
   "outputs": [
    {
     "data": {
      "text/plain": [
       "104"
      ]
     },
     "execution_count": 67,
     "metadata": {},
     "output_type": "execute_result"
    }
   ],
   "source": [
    "u_i = set(np.argwhere(~np.isnan(mean_centered_ratings_matrix.iloc[:,0])).squeeze())\n",
    "u_j = set(np.argwhere(~np.isnan(mean_centered_ratings_matrix.iloc[:,1])).squeeze())\n",
    "\n",
    "u_i_and_j = u_i.intersection(u_j)\n"
   ]
  },
  {
   "cell_type": "code",
   "execution_count": 190,
   "metadata": {},
   "outputs": [],
   "source": [
    "\n",
    "def AdjustedCosine(i:np.array,j:np.array):\n",
    "    #here we are getting the set of common items that they have rated \n",
    "    u_i = np.argwhere(~np.isnan(i)).squeeze().tolist()\n",
    "    u_j = np.argwhere(~np.isnan(j)).squeeze().tolist()\n",
    "\n",
    "    # this is to make sure that we are not squeezing an array of 1 element.\n",
    "    if isinstance(u_i,int):\n",
    "        u_i = [u_i]\n",
    "    \n",
    "    if isinstance(u_j,int): \n",
    "        u_j = [u_j]\n",
    "\n",
    "    u_i = set(u_i)\n",
    "    u_j = set(u_j)\n",
    "    u_i_and_j = list(u_i.intersection(u_j))\n",
    "    \n",
    "    adjusted_cosine = np.sum(i[u_i_and_j] *j[u_i_and_j]) / (np.sqrt(np.sum(np.power(i[u_i_and_j],2))) * np.sqrt(np.sum(np.power(j[u_i_and_j],2))))\n",
    "    return adjusted_cosine\n",
    "\n",
    "def calculating_peer_groups(input_matrix):\n",
    "    res_matrix = np.zeros((input_matrix.shape[1],input_matrix.shape[1]))\n",
    "    # print(res_matrix.shape)\n",
    "    for i in range(res_matrix.shape[0]):\n",
    "        for j in range(res_matrix.shape[0]):\n",
    "            # print(i,j)\n",
    "            res_matrix[i,j] = AdjustedCosine(input_matrix[:,i],input_matrix[:,j])\n",
    "\n",
    "    return res_matrix"
   ]
  },
  {
   "cell_type": "code",
   "execution_count": 205,
   "metadata": {},
   "outputs": [
    {
     "name": "stderr",
     "output_type": "stream",
     "text": [
      "C:\\Users\\Tiam Moradi\\AppData\\Local\\Temp\\ipykernel_1988\\3500601025.py:17: RuntimeWarning: invalid value encountered in scalar divide\n",
      "  adjusted_cosine = np.sum(i[u_i_and_j] *j[u_i_and_j]) / (np.sqrt(np.sum(np.power(i[u_i_and_j],2))) * np.sqrt(np.sum(np.power(j[u_i_and_j],2))))\n"
     ]
    }
   ],
   "source": [
    "sim_matrix = calculating_peer_groups(mean_centered_ratings_matrix)"
   ]
  }
 ],
 "metadata": {
  "kernelspec": {
   "display_name": "RecSys",
   "language": "python",
   "name": "python3"
  },
  "language_info": {
   "codemirror_mode": {
    "name": "ipython",
    "version": 3
   },
   "file_extension": ".py",
   "mimetype": "text/x-python",
   "name": "python",
   "nbconvert_exporter": "python",
   "pygments_lexer": "ipython3",
   "version": "3.10.12"
  }
 },
 "nbformat": 4,
 "nbformat_minor": 2
}
